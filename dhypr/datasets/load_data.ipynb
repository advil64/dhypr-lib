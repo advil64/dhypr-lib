{
 "cells": [
  {
   "cell_type": "code",
   "execution_count": 1,
   "metadata": {},
   "outputs": [],
   "source": [
    "from transforms import mask_edges_general_link_prediction, mask_edges_bns_link_prediction, mask_edges_bidirectionality_link_prediction\n",
    "from air import Air\n",
    "from wiki import Wiki\n",
    "import torch_geometric.transforms as transforms\n",
    "from generate_k_order_matrix import get_k_order_lp_matrix\n",
    "\n",
    "from torch_geometric.data import Data, Dataset, download_url, extract_gz\n",
    "import os.path as osp"
   ]
  },
  {
   "cell_type": "code",
   "execution_count": 3,
   "metadata": {},
   "outputs": [],
   "source": [
    "root = './wiki'\n",
    "name = 'link_sign_prediction'\n",
    "raw_dir = osp.join(root, name, 'raw')"
   ]
  },
  {
   "cell_type": "code",
   "execution_count": 9,
   "metadata": {},
   "outputs": [
    {
     "name": "stderr",
     "output_type": "stream",
     "text": [
      "Downloading http://konect.cc/files/download.tsv.maayan-faa.tar.bz2\n"
     ]
    },
    {
     "name": "stdout",
     "output_type": "stream",
     "text": [
      "Extracting air traffic control dataset from air/bidirectionality_link_pred/raw/download.tsv.maayan-faa.tar.bz2\n",
      "Processing fold 0\n",
      "k=1 diffusion_in   took 7.152557373046875e-06 s\n",
      "k=1 diffusion_out   took 2.1457672119140625e-06 s\n"
     ]
    },
    {
     "name": "stderr",
     "output_type": "stream",
     "text": [
      "Processing...\n"
     ]
    },
    {
     "name": "stdout",
     "output_type": "stream",
     "text": [
      "k=1 neighbor_in   took 20.79710602760315 s\n",
      "k=1 neighbor_out   took 1.149259090423584 s\n",
      "k=2 diffusion_in   took 10.895909547805786 s\n",
      "k=2 diffusion_out   took 10.863770246505737 s\n",
      "k=2 neighbor_in   took 1.880103349685669 s\n",
      "k=2 neighbor_out   took 1.8701963424682617 s\n",
      "Processing fold 1\n",
      "k=1 diffusion_in   took 5.245208740234375e-06 s\n",
      "k=1 diffusion_out   took 1.9073486328125e-06 s\n",
      "k=1 neighbor_in   took 2.79217529296875 s\n",
      "k=1 neighbor_out   took 1.1590778827667236 s\n",
      "k=2 diffusion_in   took 1.4979827404022217 s\n",
      "k=2 diffusion_out   took 1.8474140167236328 s\n",
      "k=2 neighbor_in   took 1.9038653373718262 s\n",
      "k=2 neighbor_out   took 1.863755702972412 s\n",
      "Processing fold 2\n",
      "k=1 diffusion_in   took 4.291534423828125e-06 s\n",
      "k=1 diffusion_out   took 1.9073486328125e-06 s\n",
      "k=1 neighbor_in   took 2.7932183742523193 s\n",
      "k=1 neighbor_out   took 1.1508681774139404 s\n",
      "k=2 diffusion_in   took 1.4967403411865234 s\n",
      "k=2 diffusion_out   took 1.8470828533172607 s\n",
      "k=2 neighbor_in   took 1.955958366394043 s\n",
      "k=2 neighbor_out   took 1.8734500408172607 s\n",
      "Processing fold 3\n",
      "k=1 diffusion_in   took 4.76837158203125e-06 s\n",
      "k=1 diffusion_out   took 1.9073486328125e-06 s\n",
      "k=1 neighbor_in   took 2.788140296936035 s\n",
      "k=1 neighbor_out   took 1.1593825817108154 s\n",
      "k=2 diffusion_in   took 1.4940268993377686 s\n",
      "k=2 diffusion_out   took 1.8623359203338623 s\n",
      "k=2 neighbor_in   took 10.962275981903076 s\n",
      "k=2 neighbor_out   took 1.8748645782470703 s\n",
      "Processing fold 4\n",
      "k=1 diffusion_in   took 5.4836273193359375e-06 s\n",
      "k=1 diffusion_out   took 1.6689300537109375e-06 s\n",
      "k=1 neighbor_in   took 2.803724765777588 s\n",
      "k=1 neighbor_out   took 1.147526502609253 s\n",
      "k=2 diffusion_in   took 1.4954497814178467 s\n",
      "k=2 diffusion_out   took 1.8530170917510986 s\n",
      "k=2 neighbor_in   took 1.9962341785430908 s\n",
      "k=2 neighbor_out   took 1.8763341903686523 s\n",
      "Processing fold 5\n",
      "k=1 diffusion_in   took 5.245208740234375e-06 s\n",
      "k=1 diffusion_out   took 1.430511474609375e-06 s\n",
      "k=1 neighbor_in   took 2.7929229736328125 s\n",
      "k=1 neighbor_out   took 1.149914264678955 s\n",
      "k=2 diffusion_in   took 1.4955649375915527 s\n",
      "k=2 diffusion_out   took 1.843268632888794 s\n",
      "k=2 neighbor_in   took 1.8531675338745117 s\n",
      "k=2 neighbor_out   took 1.8786547183990479 s\n",
      "Processing fold 6\n",
      "k=1 diffusion_in   took 4.76837158203125e-06 s\n",
      "k=1 diffusion_out   took 1.430511474609375e-06 s\n",
      "k=1 neighbor_in   took 2.8381309509277344 s\n",
      "k=1 neighbor_out   took 1.148874044418335 s\n",
      "k=2 diffusion_in   took 1.4931366443634033 s\n",
      "k=2 diffusion_out   took 1.8468384742736816 s\n",
      "k=2 neighbor_in   took 1.8629953861236572 s\n",
      "k=2 neighbor_out   took 1.8671157360076904 s\n",
      "Processing fold 7\n",
      "k=1 diffusion_in   took 5.0067901611328125e-06 s\n",
      "k=1 diffusion_out   took 1.430511474609375e-06 s\n",
      "k=1 neighbor_in   took 2.8184874057769775 s\n",
      "k=1 neighbor_out   took 1.1486883163452148 s\n",
      "k=2 diffusion_in   took 1.4911127090454102 s\n",
      "k=2 diffusion_out   took 1.8443782329559326 s\n",
      "k=2 neighbor_in   took 1.8637351989746094 s\n",
      "k=2 neighbor_out   took 1.869424819946289 s\n",
      "Processing fold 8\n",
      "k=1 diffusion_in   took 4.5299530029296875e-06 s\n",
      "k=1 diffusion_out   took 1.9073486328125e-06 s\n",
      "k=1 neighbor_in   took 2.8249480724334717 s\n",
      "k=1 neighbor_out   took 1.1470186710357666 s\n",
      "k=2 diffusion_in   took 1.4969117641448975 s\n",
      "k=2 diffusion_out   took 1.84696364402771 s\n",
      "k=2 neighbor_in   took 1.8638865947723389 s\n",
      "k=2 neighbor_out   took 1.8591017723083496 s\n",
      "Processing fold 9\n",
      "k=1 diffusion_in   took 4.76837158203125e-06 s\n",
      "k=1 diffusion_out   took 1.6689300537109375e-06 s\n",
      "k=1 neighbor_in   took 2.8245747089385986 s\n",
      "k=1 neighbor_out   took 1.1461665630340576 s\n",
      "k=2 diffusion_in   took 1.497422218322754 s\n",
      "k=2 diffusion_out   took 1.845594882965088 s\n",
      "k=2 neighbor_in   took 1.857217788696289 s\n",
      "k=2 neighbor_out   took 1.874927282333374 s\n"
     ]
    },
    {
     "name": "stderr",
     "output_type": "stream",
     "text": [
      "Done!\n"
     ]
    }
   ],
   "source": [
    "air_graph = Air('./air', 'bidirectionality_link_pred', pre_transform=mask_edges_bidirectionality_link_prediction, create_k_order=get_k_order_lp_matrix)"
   ]
  },
  {
   "cell_type": "code",
   "execution_count": 2,
   "metadata": {},
   "outputs": [
    {
     "name": "stderr",
     "output_type": "stream",
     "text": [
      "Downloading https://snap.stanford.edu/data/wiki-Vote.txt.gz\n"
     ]
    },
    {
     "name": "stdout",
     "output_type": "stream",
     "text": [
      "Extracting wikipedia vote edges dataset from wiki/edge_attr_pred/raw/wiki-Vote.txt.gz\n"
     ]
    },
    {
     "name": "stderr",
     "output_type": "stream",
     "text": [
      "Extracting wiki/edge_attr_pred/raw/wiki-Vote.txt.gz\n",
      "Downloading https://snap.stanford.edu/data/wikiElec.ElecBs3.txt.gz\n"
     ]
    },
    {
     "name": "stdout",
     "output_type": "stream",
     "text": [
      "Extracting wikipedia edges attributes dataset from wiki/edge_attr_pred/raw/wiki-Vote.txt.gz\n",
      "7115\n",
      "103689\n"
     ]
    },
    {
     "name": "stderr",
     "output_type": "stream",
     "text": [
      "Extracting wiki/edge_attr_pred/raw/wikiElec.ElecBs3.txt.gz\n",
      "Processing...\n",
      "Done!\n"
     ]
    }
   ],
   "source": [
    "wiki_graph = Wiki('./wiki', 'edge_attr_pred')"
   ]
  },
  {
   "cell_type": "code",
   "execution_count": 11,
   "metadata": {},
   "outputs": [
    {
     "name": "stdout",
     "output_type": "stream",
     "text": [
      "tensor([[  72,   90, 1164,  743, 1189,  768,  899,  321,  312,  141,  587, 1055,\n",
      "          335,   67,  346,  847,  958,  366,  466,   31,   29,  312, 1157,   49,\n",
      "           86,  316,  252,  277,  556,  165,   47,  933,  751,  353,  334,  439,\n",
      "          581,  422,   14,   38,  374,  467,  401,  802,  885,  105,  613,  821,\n",
      "         1181,  517,  389, 1149,  247,  466,    9,  278, 1026,  435,  217,  461,\n",
      "          234,   22,  700,  594,  876,  616,  409,  958,  545,  200,  611,  384,\n",
      "          135,  678,   84,  625,  976,  780,  402,  873,  330,   10,  514,  141,\n",
      "          115,  489,  956,  377,  762,  349,  895, 1085,  129,   79,  357,  602,\n",
      "          318,  822,  937,  533,   81,  512,   72,  860],\n",
      "        [ 113,  125, 1163,  259, 1188,  763,  306, 1101,  532,   70,  586, 1054,\n",
      "          365,   66,  319,  846,  858,  365,  136,    6,   10,  650, 1156,   48,\n",
      "          320,  315,  218,  276,  113,  782,  841,   56,  212,  330,  333,  438,\n",
      "           66,  146,    2,  384,  343,  122,  964,   44,  879,  169,  612,  820,\n",
      "         1180,  514,  773, 1195,  241,  549,  992,  504, 1025,  126,  213,  460,\n",
      "          213,   21,  107, 1060,  852, 1045, 1102,  210,  544,  813,  610,  322,\n",
      "         1007,  135,   47,  401, 1138,  860,  397,  660,  329,  119,  513,   68,\n",
      "           67,  488,  955,  205,  741, 1084,   23, 1099,  168,  552,  343,  601,\n",
      "          312,  187,  721,  531,   52,  827,   66,  891]])\n"
     ]
    }
   ],
   "source": [
    "print(air_graph.get(7).test_neg_edge_index)"
   ]
  }
 ],
 "metadata": {
  "kernelspec": {
   "display_name": "dhypr_lib",
   "language": "python",
   "name": "python3"
  },
  "language_info": {
   "codemirror_mode": {
    "name": "ipython",
    "version": 3
   },
   "file_extension": ".py",
   "mimetype": "text/x-python",
   "name": "python",
   "nbconvert_exporter": "python",
   "pygments_lexer": "ipython3",
   "version": "3.9.15"
  },
  "orig_nbformat": 4,
  "vscode": {
   "interpreter": {
    "hash": "90222e4b65fd9b3efd7c4d768b35ac3349463bce78ce23cdbfc6a3ffdd6d0699"
   }
  }
 },
 "nbformat": 4,
 "nbformat_minor": 2
}
