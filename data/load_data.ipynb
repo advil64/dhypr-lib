{
 "cells": [
  {
   "cell_type": "code",
   "execution_count": 1,
   "metadata": {},
   "outputs": [],
   "source": [
    "from transforms import mask_edges_general_link_prediction\n",
    "from air import Air\n",
    "import torch_geometric.transforms as transforms\n",
    "from generate_k_order_matrix import get_k_order_lp_matrix"
   ]
  },
  {
   "cell_type": "code",
   "execution_count": 2,
   "metadata": {},
   "outputs": [
    {
     "name": "stderr",
     "output_type": "stream",
     "text": [
      "Processing...\n"
     ]
    },
    {
     "name": "stdout",
     "output_type": "stream",
     "text": [
      "\n",
      "Task 1: General Directed Link Prediction: kth fold cross validation split & save\n",
      "k=1 diffusion_in   took 5.0067901611328125e-06 s\n",
      "k=1 diffusion_out   took 1.6689300537109375e-06 s\n",
      "k=1 neighbor_in   took 20.722477436065674 s\n",
      "k=1 neighbor_out   took 1.150066614151001 s\n",
      "k=2 diffusion_in   took 10.788845300674438 s\n",
      "k=2 diffusion_out   took 10.83668327331543 s\n",
      "k=2 neighbor_in   took 1.931534767150879 s\n",
      "k=2 neighbor_out   took 1.8811347484588623 s\n",
      "\n",
      "Task 1: General Directed Link Prediction: kth fold cross validation split & save\n",
      "k=1 diffusion_in   took 4.291534423828125e-06 s\n",
      "k=1 diffusion_out   took 1.1920928955078125e-06 s\n",
      "k=1 neighbor_in   took 20.83943796157837 s\n",
      "k=1 neighbor_out   took 1.1453323364257812 s\n",
      "k=2 diffusion_in   took 10.886231660842896 s\n",
      "k=2 diffusion_out   took 10.960345983505249 s\n",
      "k=2 neighbor_in   took 2.0373547077178955 s\n",
      "k=2 neighbor_out   took 1.8911337852478027 s\n",
      "\n",
      "Task 1: General Directed Link Prediction: kth fold cross validation split & save\n",
      "k=1 diffusion_in   took 4.5299530029296875e-06 s\n",
      "k=1 diffusion_out   took 1.6689300537109375e-06 s\n",
      "k=1 neighbor_in   took 21.357025146484375 s\n",
      "k=1 neighbor_out   took 1.1480906009674072 s\n",
      "k=2 diffusion_in   took 10.95180630683899 s\n",
      "k=2 diffusion_out   took 11.091264963150024 s\n",
      "k=2 neighbor_in   took 1.9690699577331543 s\n",
      "k=2 neighbor_out   took 1.9045052528381348 s\n",
      "\n",
      "Task 1: General Directed Link Prediction: kth fold cross validation split & save\n",
      "k=1 diffusion_in   took 4.291534423828125e-06 s\n",
      "k=1 diffusion_out   took 1.9073486328125e-06 s\n",
      "k=1 neighbor_in   took 21.341444969177246 s\n",
      "k=1 neighbor_out   took 1.148674488067627 s\n",
      "k=2 diffusion_in   took 10.958050966262817 s\n",
      "k=2 diffusion_out   took 11.025989770889282 s\n",
      "k=2 neighbor_in   took 2.0792734622955322 s\n",
      "k=2 neighbor_out   took 1.9276700019836426 s\n",
      "\n",
      "Task 1: General Directed Link Prediction: kth fold cross validation split & save\n",
      "k=1 diffusion_in   took 4.5299530029296875e-06 s\n",
      "k=1 diffusion_out   took 1.6689300537109375e-06 s\n",
      "k=1 neighbor_in   took 21.361790895462036 s\n",
      "k=1 neighbor_out   took 1.1449620723724365 s\n",
      "k=2 diffusion_in   took 10.94406533241272 s\n",
      "k=2 diffusion_out   took 10.993260860443115 s\n",
      "k=2 neighbor_in   took 1.8553471565246582 s\n",
      "k=2 neighbor_out   took 1.935866117477417 s\n",
      "\n",
      "Task 1: General Directed Link Prediction: kth fold cross validation split & save\n",
      "k=1 diffusion_in   took 4.291534423828125e-06 s\n",
      "k=1 diffusion_out   took 1.1920928955078125e-06 s\n",
      "k=1 neighbor_in   took 21.367249011993408 s\n",
      "k=1 neighbor_out   took 1.1450300216674805 s\n",
      "k=2 diffusion_in   took 10.942445755004883 s\n",
      "k=2 diffusion_out   took 11.005912780761719 s\n",
      "k=2 neighbor_in   took 1.8652520179748535 s\n",
      "k=2 neighbor_out   took 1.932511329650879 s\n",
      "\n",
      "Task 1: General Directed Link Prediction: kth fold cross validation split & save\n",
      "k=1 diffusion_in   took 4.5299530029296875e-06 s\n",
      "k=1 diffusion_out   took 1.6689300537109375e-06 s\n",
      "k=1 neighbor_in   took 21.363187789916992 s\n",
      "k=1 neighbor_out   took 1.147158145904541 s\n",
      "k=2 diffusion_in   took 10.937462329864502 s\n",
      "k=2 diffusion_out   took 11.080647706985474 s\n",
      "k=2 neighbor_in   took 11.02236032485962 s\n",
      "k=2 neighbor_out   took 1.9367923736572266 s\n",
      "\n",
      "Task 1: General Directed Link Prediction: kth fold cross validation split & save\n",
      "k=1 diffusion_in   took 4.5299530029296875e-06 s\n",
      "k=1 diffusion_out   took 1.430511474609375e-06 s\n",
      "k=1 neighbor_in   took 21.47622513771057 s\n",
      "k=1 neighbor_out   took 1.1494903564453125 s\n",
      "k=2 diffusion_in   took 11.026244878768921 s\n",
      "k=2 diffusion_out   took 11.126568078994751 s\n",
      "k=2 neighbor_in   took 1.8573873043060303 s\n",
      "k=2 neighbor_out   took 1.9552068710327148 s\n",
      "\n",
      "Task 1: General Directed Link Prediction: kth fold cross validation split & save\n",
      "k=1 diffusion_in   took 4.76837158203125e-06 s\n",
      "k=1 diffusion_out   took 1.1920928955078125e-06 s\n",
      "k=1 neighbor_in   took 21.515182733535767 s\n",
      "k=1 neighbor_out   took 1.1824588775634766 s\n",
      "k=2 diffusion_in   took 11.101826906204224 s\n",
      "k=2 diffusion_out   took 11.191162824630737 s\n",
      "k=2 neighbor_in   took 1.8998024463653564 s\n",
      "k=2 neighbor_out   took 1.9212424755096436 s\n",
      "\n",
      "Task 1: General Directed Link Prediction: kth fold cross validation split & save\n",
      "k=1 diffusion_in   took 4.5299530029296875e-06 s\n",
      "k=1 diffusion_out   took 1.6689300537109375e-06 s\n",
      "k=1 neighbor_in   took 21.371358156204224 s\n",
      "k=1 neighbor_out   took 1.1474554538726807 s\n",
      "k=2 diffusion_in   took 10.933791637420654 s\n",
      "k=2 diffusion_out   took 11.006603956222534 s\n",
      "k=2 neighbor_in   took 1.8951210975646973 s\n",
      "k=2 neighbor_out   took 1.9073057174682617 s\n"
     ]
    },
    {
     "name": "stderr",
     "output_type": "stream",
     "text": [
      "Done!\n"
     ]
    }
   ],
   "source": [
    "air_graph = Air('./', 'air', pre_transform=mask_edges_general_link_prediction, create_k_order=get_k_order_lp_matrix)"
   ]
  },
  {
   "cell_type": "code",
   "execution_count": 3,
   "metadata": {},
   "outputs": [
    {
     "name": "stdout",
     "output_type": "stream",
     "text": [
      "Air(10)\n"
     ]
    }
   ],
   "source": [
    "print(air_graph)"
   ]
  },
  {
   "cell_type": "code",
   "execution_count": 7,
   "metadata": {},
   "outputs": [
    {
     "name": "stdout",
     "output_type": "stream",
     "text": [
      "  (1, 0)\t1\n",
      "  (1, 80)\t1\n",
      "  (1, 285)\t1\n",
      "  (1, 354)\t1\n",
      "  (1, 361)\t1\n",
      "  (1, 394)\t1\n",
      "  (3, 2)\t1\n",
      "  (3, 251)\t1\n",
      "  (3, 920)\t1\n",
      "  (4, 404)\t1\n",
      "  (4, 742)\t1\n",
      "  (5, 4)\t1\n",
      "  (5, 106)\t1\n",
      "  (5, 117)\t1\n",
      "  (5, 466)\t1\n",
      "  (5, 930)\t1\n",
      "  (5, 1037)\t1\n",
      "  (5, 1100)\t1\n",
      "  (6, 64)\t1\n",
      "  (6, 468)\t1\n",
      "  (7, 6)\t1\n",
      "  (8, 418)\t1\n",
      "  (8, 506)\t1\n",
      "  (8, 711)\t1\n",
      "  (9, 8)\t1\n",
      "  :\t:\n",
      "  (1189, 634)\t1\n",
      "  (1190, 484)\t1\n",
      "  (1192, 112)\t1\n",
      "  (1193, 443)\t1\n",
      "  (1194, 1020)\t1\n",
      "  (1196, 1195)\t1\n",
      "  (1200, 450)\t1\n",
      "  (1201, 357)\t1\n",
      "  (1204, 368)\t1\n",
      "  (1206, 185)\t1\n",
      "  (1207, 1184)\t1\n",
      "  (1210, 442)\t1\n",
      "  (1211, 904)\t1\n",
      "  (1212, 260)\t1\n",
      "  (1214, 1213)\t1\n",
      "  (1215, 636)\t1\n",
      "  (1216, 527)\t1\n",
      "  (1217, 414)\t1\n",
      "  (1217, 1182)\t1\n",
      "  (1218, 929)\t1\n",
      "  (1219, 166)\t1\n",
      "  (1221, 1135)\t1\n",
      "  (1223, 159)\t1\n",
      "  (1224, 67)\t1\n",
      "  (1225, 383)\t1\n"
     ]
    }
   ],
   "source": [
    "print(air_graph.get(9).k_order_matrix['a1_d_i'])"
   ]
  }
 ],
 "metadata": {
  "kernelspec": {
   "display_name": "dhypr_lib",
   "language": "python",
   "name": "python3"
  },
  "language_info": {
   "codemirror_mode": {
    "name": "ipython",
    "version": 3
   },
   "file_extension": ".py",
   "mimetype": "text/x-python",
   "name": "python",
   "nbconvert_exporter": "python",
   "pygments_lexer": "ipython3",
   "version": "3.9.15"
  },
  "orig_nbformat": 4,
  "vscode": {
   "interpreter": {
    "hash": "90222e4b65fd9b3efd7c4d768b35ac3349463bce78ce23cdbfc6a3ffdd6d0699"
   }
  }
 },
 "nbformat": 4,
 "nbformat_minor": 2
}
