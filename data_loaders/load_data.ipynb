{
 "cells": [
  {
   "cell_type": "code",
   "execution_count": 2,
   "metadata": {},
   "outputs": [],
   "source": [
    "from torch_geometric.data import Dataset, download_url"
   ]
  },
  {
   "cell_type": "code",
   "execution_count": 5,
   "metadata": {},
   "outputs": [],
   "source": [
    "import os.path as osp"
   ]
  },
  {
   "cell_type": "code",
   "execution_count": 4,
   "metadata": {},
   "outputs": [
    {
     "name": "stderr",
     "output_type": "stream",
     "text": [
      "Downloading http://konect.cc/files/download.tsv.maayan-faa.tar.bz2\n"
     ]
    },
    {
     "data": {
      "text/plain": [
       "'./air_raw/download.tsv.maayan-faa.tar.bz2'"
      ]
     },
     "execution_count": 4,
     "metadata": {},
     "output_type": "execute_result"
    }
   ],
   "source": [
    "download_url('http://konect.cc/files/download.tsv.maayan-faa.tar.bz2', './air_raw')"
   ]
  },
  {
   "cell_type": "code",
   "execution_count": 7,
   "metadata": {},
   "outputs": [
    {
     "name": "stdout",
     "output_type": "stream",
     "text": [
      "hello!\n"
     ]
    }
   ],
   "source": [
    "if osp.exists('./air_raw'):\n",
    "    print('hello!')"
   ]
  }
 ],
 "metadata": {
  "kernelspec": {
   "display_name": "dhypr_lib",
   "language": "python",
   "name": "python3"
  },
  "language_info": {
   "codemirror_mode": {
    "name": "ipython",
    "version": 3
   },
   "file_extension": ".py",
   "mimetype": "text/x-python",
   "name": "python",
   "nbconvert_exporter": "python",
   "pygments_lexer": "ipython3",
   "version": "3.9.15"
  },
  "orig_nbformat": 4,
  "vscode": {
   "interpreter": {
    "hash": "90222e4b65fd9b3efd7c4d768b35ac3349463bce78ce23cdbfc6a3ffdd6d0699"
   }
  }
 },
 "nbformat": 4,
 "nbformat_minor": 2
}
