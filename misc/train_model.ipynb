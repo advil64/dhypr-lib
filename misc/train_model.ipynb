{
 "cells": [
  {
   "cell_type": "code",
   "execution_count": 1,
   "metadata": {},
   "outputs": [
    {
     "name": "stderr",
     "output_type": "stream",
     "text": [
      "/home/honglu/Softwares/anaconda3/envs/dhypr_lib/lib/python3.9/site-packages/tqdm/auto.py:22: TqdmWarning: IProgress not found. Please update jupyter and ipywidgets. See https://ipywidgets.readthedocs.io/en/stable/user_install.html\n",
      "  from .autonotebook import tqdm as notebook_tqdm\n"
     ]
    }
   ],
   "source": [
    "from datasets.air import Air\n",
    "\n",
    "import torch\n",
    "import torch.nn.functional as F\n",
    "from sklearn.metrics import roc_auc_score\n",
    "\n",
    "from torch_geometric.utils import negative_sampling\n",
    "from torch_geometric.nn import GCNConv"
   ]
  },
  {
   "cell_type": "code",
   "execution_count": 2,
   "metadata": {},
   "outputs": [],
   "source": [
    "device = torch.device('cuda' if torch.cuda.is_available() else 'cpu')\n",
    "device = \"cpu\""
   ]
  },
  {
   "cell_type": "code",
   "execution_count": 3,
   "metadata": {},
   "outputs": [
    {
     "name": "stderr",
     "output_type": "stream",
     "text": [
      "Downloading http://konect.cc/files/download.tsv.maayan-faa.tar.bz2\n"
     ]
    },
    {
     "name": "stdout",
     "output_type": "stream",
     "text": [
      "Extracting air traffic control dataset from /home/honglu/advith/dhypr-lib/dhypr/datasets/air/link_prediction/raw/download.tsv.maayan-faa.tar.bz2\n",
      "Processing fold 0\n"
     ]
    },
    {
     "name": "stderr",
     "output_type": "stream",
     "text": [
      "Processing...\n"
     ]
    },
    {
     "name": "stdout",
     "output_type": "stream",
     "text": [
      "k=1 diffusion_in   took 6.67572021484375e-06 s\n",
      "k=1 diffusion_out   took 2.1457672119140625e-06 s\n",
      "k=1 neighbor_in   took 0.036828041076660156 s\n",
      "k=1 neighbor_out   took 0.029230356216430664 s\n",
      "Processing fold 1\n",
      "k=1 diffusion_in   took 4.5299530029296875e-06 s\n",
      "k=1 diffusion_out   took 2.1457672119140625e-06 s\n",
      "k=1 neighbor_in   took 0.03281760215759277 s\n",
      "k=1 neighbor_out   took 0.02689671516418457 s\n",
      "Processing fold 2\n",
      "k=1 diffusion_in   took 5.9604644775390625e-06 s\n",
      "k=1 diffusion_out   took 2.384185791015625e-06 s\n",
      "k=1 neighbor_in   took 0.044298648834228516 s\n",
      "k=1 neighbor_out   took 0.04185295104980469 s\n",
      "Processing fold 3\n",
      "k=1 diffusion_in   took 5.0067901611328125e-06 s\n",
      "k=1 diffusion_out   took 2.6226043701171875e-06 s\n",
      "k=1 neighbor_in   took 0.03152275085449219 s\n",
      "k=1 neighbor_out   took 0.027666568756103516 s\n",
      "Processing fold 4\n",
      "k=1 diffusion_in   took 5.245208740234375e-06 s\n",
      "k=1 diffusion_out   took 2.384185791015625e-06 s\n",
      "k=1 neighbor_in   took 0.04136824607849121 s\n",
      "k=1 neighbor_out   took 0.03840923309326172 s\n",
      "Processing fold 5\n",
      "k=1 diffusion_in   took 5.245208740234375e-06 s\n",
      "k=1 diffusion_out   took 2.384185791015625e-06 s\n",
      "k=1 neighbor_in   took 0.03867340087890625 s\n",
      "k=1 neighbor_out   took 0.03598737716674805 s\n",
      "Processing fold 6\n",
      "k=1 diffusion_in   took 6.4373016357421875e-06 s\n",
      "k=1 diffusion_out   took 2.384185791015625e-06 s\n",
      "k=1 neighbor_in   took 0.027922630310058594 s\n",
      "k=1 neighbor_out   took 0.02333831787109375 s\n",
      "Processing fold 7\n",
      "k=1 diffusion_in   took 4.76837158203125e-06 s\n",
      "k=1 diffusion_out   took 2.1457672119140625e-06 s\n",
      "k=1 neighbor_in   took 0.040433406829833984 s\n",
      "k=1 neighbor_out   took 0.040641069412231445 s\n",
      "Processing fold 8\n",
      "k=1 diffusion_in   took 5.7220458984375e-06 s\n",
      "k=1 diffusion_out   took 1.9073486328125e-06 s\n",
      "k=1 neighbor_in   took 0.03416156768798828 s\n",
      "k=1 neighbor_out   took 0.04347562789916992 s\n",
      "Processing fold 9\n",
      "k=1 diffusion_in   took 5.4836273193359375e-06 s\n",
      "k=1 diffusion_out   took 2.1457672119140625e-06 s\n",
      "k=1 neighbor_in   took 0.047215938568115234 s\n",
      "k=1 neighbor_out   took 0.044942378997802734 s\n"
     ]
    },
    {
     "name": "stderr",
     "output_type": "stream",
     "text": [
      "Done!\n"
     ]
    }
   ],
   "source": [
    "dataset = Air('link_prediction')\n",
    "fold_0 = dataset.get(0)"
   ]
  },
  {
   "cell_type": "code",
   "execution_count": 4,
   "metadata": {},
   "outputs": [],
   "source": [
    "class Net(torch.nn.Module):\n",
    "    def __init__(self):\n",
    "        super(Net, self).__init__()\n",
    "        self.conv1 = GCNConv(fold_0.num_nodes, 128)\n",
    "        self.conv2 = GCNConv(128, 64)\n",
    "\n",
    "    def encode(self):\n",
    "        x = self.conv1(fold_0.x, fold_0.train_pos_edge_index) # convolution 1\n",
    "        x = x.relu()\n",
    "        return self.conv2(x, fold_0.train_pos_edge_index) # convolution 2\n",
    "\n",
    "    def decode(self, z, pos_edge_index, neg_edge_index): # only pos and neg edges\n",
    "        edge_index = torch.cat([pos_edge_index, neg_edge_index], dim=-1) # concatenate pos and neg edges\n",
    "        logits = (z[edge_index[0]] * z[edge_index[1]]).sum(dim=-1)  # dot product \n",
    "        return logits\n",
    "\n",
    "    def decode_all(self, z): \n",
    "        prob_adj = z @ z.t() # get adj NxN\n",
    "        return (prob_adj > 0).nonzero(as_tuple=False).t() # get predicted edge_list "
   ]
  },
  {
   "cell_type": "code",
   "execution_count": 5,
   "metadata": {},
   "outputs": [],
   "source": [
    "model, data = Net().to(device), fold_0.to(device)\n",
    "optimizer = torch.optim.Adam(params=model.parameters(), lr=0.01)"
   ]
  },
  {
   "cell_type": "code",
   "execution_count": 6,
   "metadata": {},
   "outputs": [],
   "source": [
    "\n",
    "def get_link_labels(pos_edge_index, neg_edge_index):\n",
    "    # returns a tensor:\n",
    "    # [1,1,1,1,...,0,0,0,0,0,..] with the number of ones is equel to the lenght of pos_edge_index\n",
    "    # and the number of zeros is equal to the length of neg_edge_index\n",
    "    E = pos_edge_index.size(1) + neg_edge_index.size(1)\n",
    "    link_labels = torch.zeros(E, dtype=torch.float, device=device)\n",
    "    link_labels[:pos_edge_index.size(1)] = 1.\n",
    "    return link_labels\n",
    "\n",
    "\n",
    "def train():\n",
    "    model.train()\n",
    "\n",
    "    neg_edge_index = negative_sampling(\n",
    "        edge_index=data.train_pos_edge_index, #positive edges\n",
    "        num_nodes=data.num_nodes, # number of nodes\n",
    "        num_neg_samples=data.train_pos_edge_index.size(1)) # number of neg_sample equal to number of pos_edges\n",
    "\n",
    "    optimizer.zero_grad()\n",
    "    \n",
    "    z = model.encode() #encode\n",
    "    link_logits = model.decode(z, data.train_pos_edge_index, neg_edge_index) # decode\n",
    "    \n",
    "    link_labels = get_link_labels(data.train_pos_edge_index, neg_edge_index)\n",
    "    loss = F.binary_cross_entropy_with_logits(link_logits, link_labels)\n",
    "    loss.backward()\n",
    "    optimizer.step()\n",
    "\n",
    "    return loss\n",
    "\n",
    "\n",
    "@torch.no_grad()\n",
    "def test():\n",
    "    model.eval()\n",
    "    perfs = []\n",
    "    for prefix in [\"val\", \"test\"]:\n",
    "        pos_edge_index = data[f'{prefix}_pos_edge_index']\n",
    "        neg_edge_index = data[f'{prefix}_neg_edge_index']\n",
    "\n",
    "        z = model.encode() # encode train\n",
    "        link_logits = model.decode(z, pos_edge_index, neg_edge_index) # decode test or val\n",
    "        link_probs = link_logits.sigmoid() # apply sigmoid\n",
    "        \n",
    "        link_labels = get_link_labels(pos_edge_index, neg_edge_index) # get link\n",
    "        \n",
    "        perfs.append(roc_auc_score(link_labels.cpu(), link_probs.cpu())) #compute roc_auc score\n",
    "    return perfs"
   ]
  },
  {
   "cell_type": "code",
   "execution_count": 7,
   "metadata": {},
   "outputs": [
    {
     "ename": "IndexError",
     "evalue": "index 1226 is out of bounds for dimension 0 with size 1226",
     "output_type": "error",
     "traceback": [
      "\u001b[0;31m---------------------------------------------------------------------------\u001b[0m",
      "\u001b[0;31mIndexError\u001b[0m                                Traceback (most recent call last)",
      "Cell \u001b[0;32mIn[7], line 3\u001b[0m\n\u001b[1;32m      1\u001b[0m best_val_perf \u001b[39m=\u001b[39m test_perf \u001b[39m=\u001b[39m \u001b[39m0\u001b[39m\n\u001b[1;32m      2\u001b[0m \u001b[39mfor\u001b[39;00m epoch \u001b[39min\u001b[39;00m \u001b[39mrange\u001b[39m(\u001b[39m1\u001b[39m, \u001b[39m101\u001b[39m):\n\u001b[0;32m----> 3\u001b[0m     train_loss \u001b[39m=\u001b[39m train()\n\u001b[1;32m      4\u001b[0m     val_perf, tmp_test_perf \u001b[39m=\u001b[39m test()\n\u001b[1;32m      5\u001b[0m     \u001b[39mif\u001b[39;00m val_perf \u001b[39m>\u001b[39m best_val_perf:\n",
      "Cell \u001b[0;32mIn[6], line 21\u001b[0m, in \u001b[0;36mtrain\u001b[0;34m()\u001b[0m\n\u001b[1;32m     14\u001b[0m neg_edge_index \u001b[39m=\u001b[39m negative_sampling(\n\u001b[1;32m     15\u001b[0m     edge_index\u001b[39m=\u001b[39mdata\u001b[39m.\u001b[39mtrain_pos_edge_index, \u001b[39m#positive edges\u001b[39;00m\n\u001b[1;32m     16\u001b[0m     num_nodes\u001b[39m=\u001b[39mdata\u001b[39m.\u001b[39mnum_nodes, \u001b[39m# number of nodes\u001b[39;00m\n\u001b[1;32m     17\u001b[0m     num_neg_samples\u001b[39m=\u001b[39mdata\u001b[39m.\u001b[39mtrain_pos_edge_index\u001b[39m.\u001b[39msize(\u001b[39m1\u001b[39m)) \u001b[39m# number of neg_sample equal to number of pos_edges\u001b[39;00m\n\u001b[1;32m     19\u001b[0m optimizer\u001b[39m.\u001b[39mzero_grad()\n\u001b[0;32m---> 21\u001b[0m z \u001b[39m=\u001b[39m model\u001b[39m.\u001b[39;49mencode() \u001b[39m#encode\u001b[39;00m\n\u001b[1;32m     22\u001b[0m link_logits \u001b[39m=\u001b[39m model\u001b[39m.\u001b[39mdecode(z, data\u001b[39m.\u001b[39mtrain_pos_edge_index, neg_edge_index) \u001b[39m# decode\u001b[39;00m\n\u001b[1;32m     24\u001b[0m link_labels \u001b[39m=\u001b[39m get_link_labels(data\u001b[39m.\u001b[39mtrain_pos_edge_index, neg_edge_index)\n",
      "Cell \u001b[0;32mIn[4], line 8\u001b[0m, in \u001b[0;36mNet.encode\u001b[0;34m(self)\u001b[0m\n\u001b[1;32m      7\u001b[0m \u001b[39mdef\u001b[39;00m \u001b[39mencode\u001b[39m(\u001b[39mself\u001b[39m):\n\u001b[0;32m----> 8\u001b[0m     x \u001b[39m=\u001b[39m \u001b[39mself\u001b[39;49m\u001b[39m.\u001b[39;49mconv1(fold_0\u001b[39m.\u001b[39;49mx, fold_0\u001b[39m.\u001b[39;49mtrain_pos_edge_index) \u001b[39m# convolution 1\u001b[39;00m\n\u001b[1;32m      9\u001b[0m     x \u001b[39m=\u001b[39m x\u001b[39m.\u001b[39mrelu()\n\u001b[1;32m     10\u001b[0m     \u001b[39mreturn\u001b[39;00m \u001b[39mself\u001b[39m\u001b[39m.\u001b[39mconv2(x, fold_0\u001b[39m.\u001b[39mtrain_pos_edge_index)\n",
      "File \u001b[0;32m~/Softwares/anaconda3/envs/dhypr_lib/lib/python3.9/site-packages/torch/nn/modules/module.py:1194\u001b[0m, in \u001b[0;36mModule._call_impl\u001b[0;34m(self, *input, **kwargs)\u001b[0m\n\u001b[1;32m   1190\u001b[0m \u001b[39m# If we don't have any hooks, we want to skip the rest of the logic in\u001b[39;00m\n\u001b[1;32m   1191\u001b[0m \u001b[39m# this function, and just call forward.\u001b[39;00m\n\u001b[1;32m   1192\u001b[0m \u001b[39mif\u001b[39;00m \u001b[39mnot\u001b[39;00m (\u001b[39mself\u001b[39m\u001b[39m.\u001b[39m_backward_hooks \u001b[39mor\u001b[39;00m \u001b[39mself\u001b[39m\u001b[39m.\u001b[39m_forward_hooks \u001b[39mor\u001b[39;00m \u001b[39mself\u001b[39m\u001b[39m.\u001b[39m_forward_pre_hooks \u001b[39mor\u001b[39;00m _global_backward_hooks\n\u001b[1;32m   1193\u001b[0m         \u001b[39mor\u001b[39;00m _global_forward_hooks \u001b[39mor\u001b[39;00m _global_forward_pre_hooks):\n\u001b[0;32m-> 1194\u001b[0m     \u001b[39mreturn\u001b[39;00m forward_call(\u001b[39m*\u001b[39;49m\u001b[39minput\u001b[39;49m, \u001b[39m*\u001b[39;49m\u001b[39m*\u001b[39;49mkwargs)\n\u001b[1;32m   1195\u001b[0m \u001b[39m# Do not call functions when jit is used\u001b[39;00m\n\u001b[1;32m   1196\u001b[0m full_backward_hooks, non_full_backward_hooks \u001b[39m=\u001b[39m [], []\n",
      "File \u001b[0;32m~/Softwares/anaconda3/envs/dhypr_lib/lib/python3.9/site-packages/torch_geometric/nn/conv/gcn_conv.py:176\u001b[0m, in \u001b[0;36mGCNConv.forward\u001b[0;34m(self, x, edge_index, edge_weight)\u001b[0m\n\u001b[1;32m    174\u001b[0m cache \u001b[39m=\u001b[39m \u001b[39mself\u001b[39m\u001b[39m.\u001b[39m_cached_edge_index\n\u001b[1;32m    175\u001b[0m \u001b[39mif\u001b[39;00m cache \u001b[39mis\u001b[39;00m \u001b[39mNone\u001b[39;00m:\n\u001b[0;32m--> 176\u001b[0m     edge_index, edge_weight \u001b[39m=\u001b[39m gcn_norm(  \u001b[39m# yapf: disable\u001b[39;49;00m\n\u001b[1;32m    177\u001b[0m         edge_index, edge_weight, x\u001b[39m.\u001b[39;49msize(\u001b[39mself\u001b[39;49m\u001b[39m.\u001b[39;49mnode_dim),\n\u001b[1;32m    178\u001b[0m         \u001b[39mself\u001b[39;49m\u001b[39m.\u001b[39;49mimproved, \u001b[39mself\u001b[39;49m\u001b[39m.\u001b[39;49madd_self_loops, \u001b[39mself\u001b[39;49m\u001b[39m.\u001b[39;49mflow, x\u001b[39m.\u001b[39;49mdtype)\n\u001b[1;32m    179\u001b[0m     \u001b[39mif\u001b[39;00m \u001b[39mself\u001b[39m\u001b[39m.\u001b[39mcached:\n\u001b[1;32m    180\u001b[0m         \u001b[39mself\u001b[39m\u001b[39m.\u001b[39m_cached_edge_index \u001b[39m=\u001b[39m (edge_index, edge_weight)\n",
      "File \u001b[0;32m~/Softwares/anaconda3/envs/dhypr_lib/lib/python3.9/site-packages/torch_geometric/nn/conv/gcn_conv.py:71\u001b[0m, in \u001b[0;36mgcn_norm\u001b[0;34m(edge_index, edge_weight, num_nodes, improved, add_self_loops, flow, dtype)\u001b[0m\n\u001b[1;32m     69\u001b[0m deg_inv_sqrt \u001b[39m=\u001b[39m deg\u001b[39m.\u001b[39mpow_(\u001b[39m-\u001b[39m\u001b[39m0.5\u001b[39m)\n\u001b[1;32m     70\u001b[0m deg_inv_sqrt\u001b[39m.\u001b[39mmasked_fill_(deg_inv_sqrt \u001b[39m==\u001b[39m \u001b[39mfloat\u001b[39m(\u001b[39m'\u001b[39m\u001b[39minf\u001b[39m\u001b[39m'\u001b[39m), \u001b[39m0\u001b[39m)\n\u001b[0;32m---> 71\u001b[0m \u001b[39mreturn\u001b[39;00m edge_index, deg_inv_sqrt[row] \u001b[39m*\u001b[39m edge_weight \u001b[39m*\u001b[39m deg_inv_sqrt[col]\n",
      "\u001b[0;31mIndexError\u001b[0m: index 1226 is out of bounds for dimension 0 with size 1226"
     ]
    }
   ],
   "source": [
    "best_val_perf = test_perf = 0\n",
    "for epoch in range(1, 101):\n",
    "    train_loss = train()\n",
    "    val_perf, tmp_test_perf = test()\n",
    "    if val_perf > best_val_perf:\n",
    "        best_val_perf = val_perf\n",
    "        test_perf = tmp_test_perf\n",
    "    log = 'Epoch: {:03d}, Loss: {:.4f}, Val: {:.4f}, Test: {:.4f}'\n",
    "    if epoch % 10 == 0:\n",
    "        print(log.format(epoch, train_loss, best_val_perf, test_perf))"
   ]
  }
 ],
 "metadata": {
  "kernelspec": {
   "display_name": "dhypr_lib",
   "language": "python",
   "name": "python3"
  },
  "language_info": {
   "codemirror_mode": {
    "name": "ipython",
    "version": 3
   },
   "file_extension": ".py",
   "mimetype": "text/x-python",
   "name": "python",
   "nbconvert_exporter": "python",
   "pygments_lexer": "ipython3",
   "version": "3.9.15"
  },
  "orig_nbformat": 4,
  "vscode": {
   "interpreter": {
    "hash": "90222e4b65fd9b3efd7c4d768b35ac3349463bce78ce23cdbfc6a3ffdd6d0699"
   }
  }
 },
 "nbformat": 4,
 "nbformat_minor": 2
}
