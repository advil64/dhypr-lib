{
 "cells": [
  {
   "cell_type": "code",
   "execution_count": 1,
   "metadata": {},
   "outputs": [
    {
     "name": "stderr",
     "output_type": "stream",
     "text": [
      "/home/honglu/Softwares/anaconda3/envs/dhypr_lib/lib/python3.9/site-packages/tqdm/auto.py:22: TqdmWarning: IProgress not found. Please update jupyter and ipywidgets. See https://ipywidgets.readthedocs.io/en/stable/user_install.html\n",
      "  from .autonotebook import tqdm as notebook_tqdm\n"
     ]
    },
    {
     "ename": "AssertionError",
     "evalue": "Please enter a valid task: sign_prediction or node_classification",
     "output_type": "error",
     "traceback": [
      "\u001b[0;31m---------------------------------------------------------------------------\u001b[0m",
      "\u001b[0;31mAssertionError\u001b[0m                            Traceback (most recent call last)",
      "Cell \u001b[0;32mIn[1], line 6\u001b[0m\n\u001b[1;32m      2\u001b[0m \u001b[39mfrom\u001b[39;00m \u001b[39mdatasets\u001b[39;00m\u001b[39m.\u001b[39;00m\u001b[39mwiki\u001b[39;00m \u001b[39mimport\u001b[39;00m Wiki\n\u001b[1;32m      5\u001b[0m \u001b[39m# Air('./datasets/air', 'link_pred')\u001b[39;00m\n\u001b[0;32m----> 6\u001b[0m Wiki(\u001b[39m'\u001b[39;49m\u001b[39m./datasets/wiki\u001b[39;49m\u001b[39m'\u001b[39;49m, \u001b[39m'\u001b[39;49m\u001b[39mlink_sign_pred\u001b[39;49m\u001b[39m'\u001b[39;49m)\n",
      "File \u001b[0;32m~/advith/dhypr-lib/dhypr/datasets/wiki.py:41\u001b[0m, in \u001b[0;36mWiki.__init__\u001b[0;34m(self, root, name, folds, transform, pre_transform, create_k_order, pre_filter)\u001b[0m\n\u001b[1;32m     38\u001b[0m \u001b[39mself\u001b[39m\u001b[39m.\u001b[39mfolds \u001b[39m=\u001b[39m folds\n\u001b[1;32m     39\u001b[0m \u001b[39mself\u001b[39m\u001b[39m.\u001b[39mcreate_k_order \u001b[39m=\u001b[39m create_k_order\n\u001b[0;32m---> 41\u001b[0m \u001b[39massert\u001b[39;00m name \u001b[39min\u001b[39;00m (\u001b[39m'\u001b[39m\u001b[39msign_prediction\u001b[39m\u001b[39m'\u001b[39m, \u001b[39m'\u001b[39m\u001b[39mnode_classification\u001b[39m\u001b[39m'\u001b[39m), \u001b[39m'\u001b[39m\u001b[39mPlease enter a valid task: sign_prediction or node_classification\u001b[39m\u001b[39m'\u001b[39m\n\u001b[1;32m     43\u001b[0m \u001b[39m# set pre transform accordingly\u001b[39;00m\n\u001b[1;32m     44\u001b[0m \u001b[39mif\u001b[39;00m pre_transform \u001b[39mis\u001b[39;00m \u001b[39mNone\u001b[39;00m:\n",
      "\u001b[0;31mAssertionError\u001b[0m: Please enter a valid task: sign_prediction or node_classification"
     ]
    }
   ],
   "source": [
    "from datasets.air import Air\n",
    "from datasets.wiki import Wiki\n",
    "import numpy as np\n",
    "\n",
    "\n",
    "# Air('./datasets/air', 'link_pred')\n",
    "Wiki('./datasets/wiki', 'link_sign_pred')"
   ]
  },
  {
   "cell_type": "code",
   "execution_count": 7,
   "metadata": {},
   "outputs": [],
   "source": [
    "import pickle\n",
    "file = open(\"/home/honglu/advith/dhypr-lib/data/wiki/Node_Classification/fold_0/wiki_splits.pkl\",'rb')\n",
    "\n",
    "pkl_file = pickle.load(file)"
   ]
  },
  {
   "cell_type": "code",
   "execution_count": 8,
   "metadata": {},
   "outputs": [
    {
     "name": "stdout",
     "output_type": "stream",
     "text": [
      "{'train_mask': array([0, 0, 0, ..., 0, 0, 0]), 'val_mask': array([0, 0, 0, ..., 0, 0, 0]), 'test_mask': array([1, 1, 1, ..., 1, 1, 1])}\n"
     ]
    }
   ],
   "source": [
    "print(pkl_file)"
   ]
  },
  {
   "cell_type": "code",
   "execution_count": 4,
   "metadata": {},
   "outputs": [
    {
     "name": "stdout",
     "output_type": "stream",
     "text": [
      "[1 1 1 ... 2 2 2]\n"
     ]
    }
   ],
   "source": [
    "with np.load('/home/honglu/advith/dhypr-lib/data/wiki/Node_Classification/wiki.npz', allow_pickle=True) as loader:\n",
    "    loader = dict(loader)\n",
    "    z = loader.get('labels')"
   ]
  },
  {
   "cell_type": "code",
   "execution_count": 7,
   "metadata": {},
   "outputs": [
    {
     "data": {
      "text/plain": [
       "7115"
      ]
     },
     "execution_count": 7,
     "metadata": {},
     "output_type": "execute_result"
    }
   ],
   "source": [
    "len(z)"
   ]
  }
 ],
 "metadata": {
  "kernelspec": {
   "display_name": "dhypr_lib",
   "language": "python",
   "name": "python3"
  },
  "language_info": {
   "codemirror_mode": {
    "name": "ipython",
    "version": 3
   },
   "file_extension": ".py",
   "mimetype": "text/x-python",
   "name": "python",
   "nbconvert_exporter": "python",
   "pygments_lexer": "ipython3",
   "version": "3.9.15"
  },
  "orig_nbformat": 4,
  "vscode": {
   "interpreter": {
    "hash": "90222e4b65fd9b3efd7c4d768b35ac3349463bce78ce23cdbfc6a3ffdd6d0699"
   }
  }
 },
 "nbformat": 4,
 "nbformat_minor": 2
}
